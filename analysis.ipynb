{
 "cells": [
  {
   "cell_type": "code",
   "execution_count": null,
   "metadata": {},
   "outputs": [],
   "source": [
    "from __future__ import division\n",
    "from __future__ import print_function\n",
    "import pandas as pd\n",
    "import numpy as np\n",
    "import matplotlib.pyplot as plt\n",
    "import scipy.stats"
   ]
  },
  {
   "cell_type": "code",
   "execution_count": null,
   "metadata": {},
   "outputs": [],
   "source": [
    "table = pd.read_csv('data/table.csv')\n",
    "table['sigmaSq']= table['sumOfSquares'] - np.square(table['n']) / table['k']\n",
    "table['prob'] = table['count'] / np.power(table['k'], table['n'])"
   ]
  },
  {
   "cell_type": "code",
   "execution_count": null,
   "metadata": {},
   "outputs": [],
   "source": [
    "n = 24\n",
    "x = np.arange(0, 10, 0.1)\n",
    "selection = table.loc[table['n']==n]\n",
    "selection.sort_values(['sigmaSq'])\n",
    "sigmaSq = np.array(selection['sigmaSq'])\n",
    "sigmaSq = 0.5 * (sigmaSq[1:] + sigmaSq[:-1])\n",
    "figure, axes = plt.subplots()\n",
    "axes.plot(6 * sigmaSq / n, np.cumsum(selection['prob'][:-1]))\n",
    "axes.plot(x, scipy.stats.chi2.cdf(x, 5))\n",
    "axes.set_xlim(min(x), max(x))\n",
    "axes.set_ylim(0, 1)\n",
    "plt.show(figure)\n",
    "plt.close(figure)"
   ]
  },
  {
   "cell_type": "code",
   "execution_count": null,
   "metadata": {},
   "outputs": [],
   "source": []
  }
 ],
 "metadata": {
  "kernelspec": {
   "display_name": "Python 2",
   "language": "python",
   "name": "python2"
  },
  "language_info": {
   "codemirror_mode": {
    "name": "ipython",
    "version": 2
   },
   "file_extension": ".py",
   "mimetype": "text/x-python",
   "name": "python",
   "nbconvert_exporter": "python",
   "pygments_lexer": "ipython2",
   "version": "2.7.12"
  }
 },
 "nbformat": 4,
 "nbformat_minor": 2
}
